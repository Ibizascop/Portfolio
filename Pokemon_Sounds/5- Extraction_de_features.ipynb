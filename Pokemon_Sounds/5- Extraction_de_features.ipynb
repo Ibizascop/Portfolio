{
 "cells": [
  {
   "cell_type": "markdown",
   "id": "31484344",
   "metadata": {},
   "source": [
    "Intro) Dans les jeux Pokemon, les pokémons sont regroupés dans ce que l'on appelle des \"groupes d'oeufs\". Ces groupes déterminent quels pokemons peuvent se reproduire entre eux et sont par conséquent similaire à la notion de \"genre animal\". Par exemple, le lion et le tigre font parti du même genre et peuve ainsi donner naissance à des hybrides.\n",
    "\n",
    "Le but de ce projet est d'essayer de construire un modèle de prediction de l'appartenance ou non d'un pokémon aux différents groupes d'oeufs (CLASSIFICATION MULTILABEL)\n",
    "\n",
    "Dans ce notebook,on extrait des features des séries temporelles via le package tsfresh. Ces features serviront en tant que variables prédictives pour le modèle final."
   ]
  },
  {
   "cell_type": "code",
   "execution_count": 7,
   "id": "d286a42d",
   "metadata": {},
   "outputs": [],
   "source": [
    "# importation des librairies\n",
    "import warnings\n",
    "warnings.simplefilter(action='ignore', category=FutureWarning)\n",
    "import numpy as np \n",
    "import tsfresh as ts \n",
    "import pandas as pd \n",
    "from tsfresh import select_features\n",
    "import os \n",
    "from tsfresh.utilities.dataframe_functions import impute\n",
    "from tsfresh.feature_extraction import ComprehensiveFCParameters\n",
    "from tqdm import tqdm"
   ]
  },
  {
   "cell_type": "markdown",
   "id": "9241d833",
   "metadata": {},
   "source": [
    "On va créer des features à partir des séries temporelles. Pour cela on utilise la librairie tsfresh avec comme features :\n",
    "\n",
    "- la longueur de la série temporelle\n",
    "- la moyenne\n",
    "- la médiane\n",
    "- le max\n",
    "- le min\n",
    "- l'energie du signal en valeur absolu\n",
    "- le nombre de points en dessous de la moyenne\n",
    "- Est ce que le signal est stationnaire (binaire)\n",
    "- Le nombre de pics dans le signal sur une fenêtre de 15 points en utilisant les wavelets pour débruiter\n",
    "- Le nombre de pics sur une fenêtre de 30 points\n",
    "- Le nombre de points compris entre 0 et 1 s\n",
    "- L'entropy du signal (https://en.wikipedia.org/wiki/Sample_entropy)\n",
    "- La localisation du premier max\n",
    "- La localisation du premier min\n",
    "- La moyenne de la dérivée seconde\n",
    "- La somme des points\n",
    "- La variance"
   ]
  },
  {
   "cell_type": "code",
   "execution_count": null,
   "id": "35266b94",
   "metadata": {},
   "outputs": [],
   "source": [
    "df=pd.DataFrame()\n",
    "i = 0\n",
    "for numero_cluster in tqdm(range(1,19)):\n",
    "    cluster_csv_folder = os.listdir(f\"./CLASSES/{numero_cluster}/CSV\")\n",
    "    for csv in cluster_csv_folder:\n",
    "        time_serie = pd.read_csv(f\"./CLASSES/{numero_cluster}/CSV/{csv}\")\n",
    "        time_serie[\"time_in_seconds\"] = time_serie.index\n",
    "        time_serie[\"id\"] = [str(i)]*len(time_serie)\n",
    "        res = False\n",
    "        fc_parameters = {\n",
    "        \"length\": None,\n",
    "        \"mean\":None,\n",
    "        \"maximum\":None,\n",
    "        \"minimum\":None,\n",
    "        \"abs_energy\":None,\n",
    "        \"count_below_mean\":None,\n",
    "        \"augmented_dickey_fuller\":[{\"attr\":\"pvalue\",\"y\":\"AIC\"}],\n",
    "        \"number_cwt_peaks\":[{\"n\":15}],\n",
    "        \"number_peaks\":[{\"n\":30}],\n",
    "        \"range_count\":[{\"min\":0,\"max\":1}],\n",
    "        \"sample_entropy\":None,\n",
    "        \"first_location_of_minimum\":None,\n",
    "        \"first_location_of_maximum\":None,\n",
    "        \"mean_second_derivative_central\":None,\n",
    "        \"median\":None,\n",
    "        \"standard_deviation\":None,\n",
    "        \"sum_values\":None,\n",
    "        \"variance\":None,\n",
    "\n",
    "        }\n",
    "        settings = ComprehensiveFCParameters()\n",
    "        df = df.append(ts.extract_features(time_serie,column_id=\"id\", column_sort=\"time_in_seconds\",default_fc_parameters=fc_parameters))\n",
    "        i = i+1\n",
    "df.head()"
   ]
  },
  {
   "cell_type": "code",
   "execution_count": 9,
   "id": "a27dea1d",
   "metadata": {},
   "outputs": [],
   "source": [
    "#on sauvegarde les resultats\n",
    "df.to_csv(\"features.csv\",index=False)"
   ]
  }
 ],
 "metadata": {
  "kernelspec": {
   "display_name": "Python 3 (ipykernel)",
   "language": "python",
   "name": "python3"
  },
  "language_info": {
   "codemirror_mode": {
    "name": "ipython",
    "version": 3
   },
   "file_extension": ".py",
   "mimetype": "text/x-python",
   "name": "python",
   "nbconvert_exporter": "python",
   "pygments_lexer": "ipython3",
   "version": "3.9.15"
  }
 },
 "nbformat": 4,
 "nbformat_minor": 5
}
