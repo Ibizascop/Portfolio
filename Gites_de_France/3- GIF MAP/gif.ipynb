{
 "cells": [
  {
   "cell_type": "markdown",
   "metadata": {},
   "source": [
    "Intro) Le but de ce projet est est de réaliser une analyse géographique du marché des gites en France et de construire un modèle de prédiction du prix à la nuit des gites en incluant une variable géographique sur l'emplacement de l'établissement.\n",
    "\n",
    "Dans ce notebook, on lance un automatise on transforme les 50+ cartes réalisées automatiquement avec PyGIS pour créer un GIF montrant années par années (quand disponible) les nouveaux gites labellisés en France"
   ]
  },
  {
   "cell_type": "code",
   "execution_count": 1,
   "metadata": {},
   "outputs": [],
   "source": [
    "#Imports\n",
    "from PIL import Image\n",
    "import glob"
   ]
  },
  {
   "cell_type": "code",
   "execution_count": 35,
   "metadata": {},
   "outputs": [],
   "source": [
    "#Add legend to maps\n",
    "legende = Image.open('legende.png')\n",
    "for filename in sorted(glob.glob('.\\Cartes\\*.png')):\n",
    "    im = Image.open(filename)\n",
    "    im.paste(legende,(2450,800),mask=legende)\n",
    "    im.save('.\\Cartes\\{}'.format(filename.split(\"\\\\\")[-1]))"
   ]
  },
  {
   "cell_type": "code",
   "execution_count": 22,
   "metadata": {},
   "outputs": [],
   "source": [
    "# create an empty list called images\n",
    "images = []"
   ]
  },
  {
   "cell_type": "code",
   "execution_count": 23,
   "metadata": {},
   "outputs": [],
   "source": [
    "# get all the images in the 'images for gif' folder\n",
    "for filename in sorted(glob.glob('.\\Cartes\\*.png')): # loop through all png files in the folder\n",
    "    im = Image.open(filename) # open the image\n",
    "    im = im.resize((im.width // 3, im.height // 3))\n",
    "    images.append(im) # add the image to the list"
   ]
  },
  {
   "cell_type": "code",
   "execution_count": 17,
   "metadata": {},
   "outputs": [],
   "source": [
    "# calculate the frame number of the last frame (ie the number of images)\n",
    "last_frame = (len(images)) "
   ]
  },
  {
   "cell_type": "code",
   "execution_count": 18,
   "metadata": {},
   "outputs": [],
   "source": [
    "# create 10 extra copies of the last frame (to make the gif spend longer on the most recent data)\n",
    "for x in range(0, 9):\n",
    "    im = images[last_frame-1]\n",
    "    images.append(im)"
   ]
  },
  {
   "cell_type": "code",
   "execution_count": 19,
   "metadata": {},
   "outputs": [],
   "source": [
    "# save as a gif   \n",
    "images[0].save('gites.gif', format = 'GIF',\n",
    "               save_all=True, append_images=images[1:], optimize=False, duration=500, loop=0)"
   ]
  }
 ],
 "metadata": {
  "kernelspec": {
   "display_name": "Python 3 (ipykernel)",
   "language": "python",
   "name": "python3"
  },
  "language_info": {
   "codemirror_mode": {
    "name": "ipython",
    "version": 3
   },
   "file_extension": ".py",
   "mimetype": "text/x-python",
   "name": "python",
   "nbconvert_exporter": "python",
   "pygments_lexer": "ipython3",
   "version": "3.9.15"
  },
  "vscode": {
   "interpreter": {
    "hash": "ad2bdc8ecc057115af97d19610ffacc2b4e99fae6737bb82f5d7fb13d2f2c186"
   }
  }
 },
 "nbformat": 4,
 "nbformat_minor": 2
}
