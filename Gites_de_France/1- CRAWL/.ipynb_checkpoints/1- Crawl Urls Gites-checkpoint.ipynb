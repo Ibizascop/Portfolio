{
 "cells": [
  {
   "cell_type": "markdown",
   "id": "04b46658",
   "metadata": {},
   "source": [
    "Intro) Le but de ce projet est est de réaliser une analyse géographique du marché des gites en France et de construire un modèle de prédiction du prix à la nuit des gites en incluant une variable géographique sur l'emplacement de l'établissement.\n",
    "\n",
    "Dans ce notebook, on lance un crawl via selenium pour recuperer les urls GITES DE FRANCE (https://www.gites-de-france.com/fr) des établissements en France (DROM inclus. Ces urls seront ensuite utilisées par le fichier 2- Crawl Infos Gites pour récupérér les données de chaque établissement."
   ]
  },
  {
   "cell_type": "code",
   "execution_count": null,
   "id": "a4cb410c",
   "metadata": {},
   "outputs": [],
   "source": [
    "import time\n",
    "import concurrent.futures\n",
    "import warnings\n",
    "import traceback\n",
    "from selenium import webdriver\n",
    "from selenium.webdriver.chrome.options import Options\n",
    "from selenium.webdriver.common.by import By\n",
    "from fake_useragent import UserAgent\n",
    "from selenium.webdriver.chrome.service import Service\n",
    "\n",
    "from tqdm.notebook import tqdm\n",
    "\n",
    "from concurrent.futures import ProcessPoolExecutor\n",
    "from concurrent.futures import Future\n",
    "from concurrent.futures import ThreadPoolExecutor, as_completed"
   ]
  },
  {
   "cell_type": "code",
   "execution_count": null,
   "id": "e1bf9b9d",
   "metadata": {},
   "outputs": [],
   "source": [
    "def loop(region) :\n",
    "    \"\"\"\n",
    "    Fonction prenant en paramètre un url de region GITES DE FRANCE \n",
    "    et qui va crawler l'ensemble des urls des gites listés sur cett destination\n",
    "    \n",
    "    Arguments:\n",
    "        region : String : url GITES DE FRANCE d'une region\n",
    "        Par exemple : \"https://www.gites-de-france.com/fr/search?destination=Normandie&regions=9&seed=3c8f06ae\"\n",
    "        \n",
    "    Renvoit: Null\n",
    "        Crawl et ecrit sur le fichier de résultat urls des gites\n",
    "        listés sur l'url de la région\n",
    "    \"\"\"\n",
    "    #Driver\n",
    "    chrome_options = Options()\n",
    "    ua = UserAgent()\n",
    "    userAgent = ua.random\n",
    "    chrome_options.add_argument(f'user-agent={userAgent}')\n",
    "    path = r\"DRIVER_PATH\"\n",
    "    chrome_options.add_argument(\"--headless\")\n",
    "    chrome = webdriver.Chrome(executable_path= path ,options=chrome_options)\n",
    "    chrome.maximize_window()\n",
    "    try :\n",
    "        chrome.get(region)\n",
    "        time.sleep(1)\n",
    "        #Popup\n",
    "        try :\n",
    "            btn = chrome.find_element(By.XPATH,'//*[@id=\"onetrust-accept-btn-handler\"]')\n",
    "            chrome.execute_script(\"arguments[0].scrollIntoView();\", btn)\n",
    "            chrome.execute_script(\"arguments[0].click();\",btn)\n",
    "            time.sleep(0.5)\n",
    "        except:\n",
    "            pass\n",
    "            \n",
    "        #Dernière page\n",
    "        last_page = chrome.find_element(By.CSS_SELECTOR,\"li[class='pager__item pager__item--last']\")\n",
    "        num_last_page = int(last_page.find_element(By.TAG_NAME,\"a\").get_attribute(\"href\").split(\"page=\")[1])\n",
    "\n",
    "        #1ere page\n",
    "        urls = chrome.find_elements(By.CSS_SELECTOR,\"a[class='g2f-accommodationTile-link']\")\n",
    "        urls = [url.get_attribute(\"href\") for url in urls]\n",
    "        for url in urls :\n",
    "            with open(\"urls.txt\",\"a\",encoding =\"utf-8\") as file:\n",
    "                print(region+\"\\t\"+url,file=file)\n",
    "        #Autres pages\n",
    "        for page in range(1,num_last_page+1) :\n",
    "            chrome.get(region+\"&page={}\".format(page))\n",
    "            time.sleep(1)\n",
    "            urls = chrome.find_elements(By.CSS_SELECTOR,\"a[class='g2f-accommodationTile-link']\")\n",
    "            urls = [url.get_attribute(\"href\") for url in urls]\n",
    "            for url in urls :\n",
    "                with open(\"urls.txt\",\"a\",encoding =\"utf-8\") as file:\n",
    "                    print(region+\"\\t\"+url,file = file)\n",
    "        chrome.quit()\n",
    "    except:\n",
    "        chrome.quit()"
   ]
  },
  {
   "cell_type": "code",
   "execution_count": null,
   "id": "a69b8bf0",
   "metadata": {},
   "outputs": [],
   "source": [
    "#Get regions urls\n",
    "with open(\"urls.txt\",\"w\",encoding =\"utf-8\") as file:\n",
    "    print(\"Region\\tUrl\",file=file)\n",
    "    \n",
    "with open(r\"Regions.txt\",\"r\") as liste_regions :\n",
    "    regions = liste_regions.readlines()\n",
    "    regions = [url.replace(\"\\n\",\"\") for url in regions]"
   ]
  },
  {
   "cell_type": "code",
   "execution_count": null,
   "id": "7f6e5ec0",
   "metadata": {},
   "outputs": [],
   "source": [
    "#Multithreading\n",
    "def main() :\n",
    "    with concurrent.futures.ProcessPoolExecutor(max_workers=10) as executor:\n",
    "       \tfuture_to_url = {executor.submit(loop, url): url for url in regions}\n",
    "       \tfor future in tqdm(concurrent.futures.as_completed(future_to_url),total=len(future_to_url)):\n",
    "       \t\turl = future_to_url[future]\n",
    "       \t\ttry:\n",
    "       \t\t\tdata = future.result()\n",
    "       \t\texcept Exception as exc:\n",
    "       \t\t\twith open('exception.txt',\"a\") as flog:\n",
    "       \t\t\t\tprint('%r generated an exception: %s' % (url, exc),file=flog)\n",
    "       \t\telse:\n",
    "       \t\t\twith open('completed.txt',\"a\") as flog:\n",
    "       \t\t\t\tprint('%r page is completed' % url,file=flog)\n",
    "                     \n",
    "if __name__ == \"__main__\":\n",
    "    main()  "
   ]
  }
 ],
 "metadata": {
  "kernelspec": {
   "display_name": "Python 3 (ipykernel)",
   "language": "python",
   "name": "python3"
  },
  "language_info": {
   "codemirror_mode": {
    "name": "ipython",
    "version": 3
   },
   "file_extension": ".py",
   "mimetype": "text/x-python",
   "name": "python",
   "nbconvert_exporter": "python",
   "pygments_lexer": "ipython3",
   "version": "3.9.15"
  }
 },
 "nbformat": 4,
 "nbformat_minor": 5
}
